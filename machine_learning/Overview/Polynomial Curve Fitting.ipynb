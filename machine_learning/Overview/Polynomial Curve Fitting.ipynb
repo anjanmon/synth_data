{
 "cells": [
  {
   "cell_type": "code",
   "execution_count": null,
   "id": "7909546c",
   "metadata": {},
   "outputs": [],
   "source": [
    "from common_utils.io_utils import load\n",
    "\n",
    "data = load(\"Pure Sine Wave\")\n",
    "\n",
    "X = data.drop(columns=\"target\")\n",
    "y = data[\"target\"]\n"
   ]
  },
  {
   "cell_type": "code",
   "execution_count": null,
   "id": "bb9df0d7",
   "metadata": {},
   "outputs": [],
   "source": []
  }
 ],
 "metadata": {
  "kernelspec": {
   "display_name": "data-synth",
   "language": "python",
   "name": "python3"
  },
  "language_info": {
   "name": "python",
   "version": "3.13.1"
  }
 },
 "nbformat": 4,
 "nbformat_minor": 5
}
